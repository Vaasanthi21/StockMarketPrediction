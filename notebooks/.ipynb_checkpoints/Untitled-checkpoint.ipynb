{
 "cells": [
  {
   "cell_type": "code",
   "execution_count": null,
   "id": "c70eae3d-61b2-4fde-91c3-b37a9c9a2c03",
   "metadata": {},
   "outputs": [],
   "source": [
    "import pandas as pd\n",
    "import matplotlib.pyplot as plt\n",
    "import seaborn as sns\n",
    "\n",
    "# Load the CSV we saved earlier\n",
    "df = pd.read_csv(\"../data/data_raw/aapl_2022.csv\", index_col=\"Date\", parse_dates=True)\n",
    "df.head()"
   ]
  },
  {
   "cell_type": "code",
   "execution_count": null,
   "id": "2a0926bf-43dd-420c-bb82-592db81bc7f8",
   "metadata": {},
   "outputs": [],
   "source": [
    "plt.figure(figsize=(12, 5))\n",
    "plt.plot(df[\"Close\"], label='Close Price', color='blue')\n",
    "plt.title(\"AAPL Closing Price (2022)\")\n",
    "plt.xlabel(\"Date\")\n",
    "plt.ylabel(\"Price ($)\")\n",
    "plt.legend()\n",
    "plt.grid()\n",
    "plt.show()"
   ]
  },
  {
   "cell_type": "code",
   "execution_count": null,
   "id": "8df53abf-543d-499a-b907-68ae53fda288",
   "metadata": {},
   "outputs": [],
   "source": [
    "df[\"MA10\"] = df[\"Close\"].rolling(window=10).mean()\n",
    "df[\"MA50\"] = df[\"Close\"].rolling(window=50).mean()\n",
    "\n",
    "df[[\"Close\", \"MA10\", \"MA50\"]].plot(figsize=(12, 5), title=\"AAPL with Moving Averages\")\n",
    "plt.grid()"
   ]
  },
  {
   "cell_type": "code",
   "execution_count": null,
   "id": "1a3b23fa-1976-40a9-ada0-310ea4a56f2c",
   "metadata": {},
   "outputs": [],
   "source": []
  }
 ],
 "metadata": {
  "kernelspec": {
   "display_name": "Python 3 (ipykernel)",
   "language": "python",
   "name": "python3"
  },
  "language_info": {
   "codemirror_mode": {
    "name": "ipython",
    "version": 3
   },
   "file_extension": ".py",
   "mimetype": "text/x-python",
   "name": "python",
   "nbconvert_exporter": "python",
   "pygments_lexer": "ipython3",
   "version": "3.13.3"
  }
 },
 "nbformat": 4,
 "nbformat_minor": 5
}
